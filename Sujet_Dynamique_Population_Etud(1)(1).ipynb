{
 "cells": [
  {
   "cell_type": "code",
   "execution_count": 10,
   "metadata": {},
   "outputs": [],
   "source": [
    "%matplotlib inline     \n",
    "# ^Sans animations\n",
    "# %matplotlib notebook \n",
    "# ^Avec animations\n",
    "import numpy as np\n",
    "import matplotlib.pyplot as plt\n",
    "from matplotlib import animation"
   ]
  },
  {
   "cell_type": "markdown",
   "metadata": {},
   "source": [
    "# Dynamique de population et Génétique"
   ]
  },
  {
   "cell_type": "markdown",
   "metadata": {},
   "source": [
    "*Sujet d'ARE Dynamic 2019*"
   ]
  },
  {
   "cell_type": "markdown",
   "metadata": {},
   "source": [
    "# 1. Modèle de Galton-Watson "
   ]
  },
  {
   "cell_type": "markdown",
   "metadata": {},
   "source": [
    "[Francis Galton](https://fr.wikipedia.org/wiki/Francis_Galton) (1822-1911) est un scientifique anglais touche-à-tout, ayant des contributions de l'anthropologie à la psychologie en passant par les statistiques. Il consacre une part importante de ses recherches à défendre la théorie de l'évolution de son cousin, Charles Darwin. Il est considéré comme l'un des fondateurs de la biométrie, il découvre l'identification par empreintes digitales, cependant il est aussi l'un des fondateurs de l'[eugénisme](https://fr.wikipedia.org/wiki/Eug%C3%A9nisme) et soutient des politiques publiques peu glorieuses. \n",
    "\n",
    "Au cours du XIXème siècle il s'intéresse à la disparition des patronymes. Pour ce faire, il introduit le [modèle de Galton-Watson](https://fr.wikipedia.org/wiki/Processus_de_Galton-Watson) permettant de modéliser la dynamique d'une population. Introduit une première fois en 1845 par [Irénée-Jules Bienaymé](https://fr.wikipedia.org/wiki/Ir%C3%A9n%C3%A9e-Jules_Bienaym%C3%A9).\n",
    "\n",
    "### Comment modéliser un tel phénomène ?\n",
    "\n",
    "Considérons un ensemble d'**individus** formant une **population**. Par soucis de simplicité nous faisons abstraction des modalités de reproduction, couple, genre, etc...  \n",
    "Chaque individu de la population est modélisé par une **variable** $X$ représentant sa capacité de reproduction, c'est-à-dire son nombre de descendants.  \n",
    "Chaque individu de la population peut avoir $k$ descendants avec probabilité $p_k$ : $\\mathbb{P}(X = k) = p_k$ avec $\\sum_k p_k =1$.  "
   ]
  },
  {
   "cell_type": "markdown",
   "metadata": {},
   "source": [
    "Commençons par modéliser un individu : la variable $X$."
   ]
  },
  {
   "cell_type": "code",
   "execution_count": 11,
   "metadata": {},
   "outputs": [],
   "source": [
    "# Dictionnaire représentant la distribution de probabilité des descendants.\n",
    "# clef = nombre de descendants et valeur = probabilité\n",
    "p = {0 : 0.5,\n",
    "     1 : 0.2,\n",
    "     2 : 0.2,\n",
    "     3 : 0.1}\n",
    "\n",
    "# Let's assert that this is a probalitiy distribution:\n",
    "np.testing.assert_almost_equal(sum(p.values()),1)"
   ]
  },
  {
   "cell_type": "code",
   "execution_count": 12,
   "metadata": {},
   "outputs": [],
   "source": [
    "def number_of_descendants(p):\n",
    "    '''\n",
    "    dict[int:float]->int\n",
    "    Étant donnée une distibution de probabilité 'p', la fonction retourne le nombre de descendants d'un individu.\n",
    "    '''\n",
    "    u = np.random.random()\n",
    "    s = 0\n",
    "    for k in p.keys():\n",
    "        s = s + p[k]\n",
    "        if u < s:\n",
    "            return k"
   ]
  },
  {
   "cell_type": "markdown",
   "metadata": {},
   "source": [
    "**Question 1.1 :** Remplacer la distribution $p$ par une distribution qui vous semble cohérente, puis tester cette fonction. (Par exemple, vous pourrez tirer un certain nombre de fois un nombre de descendants selon cette fonction, puis vérifier que la distribution observée est conforme.)"
   ]
  },
  {
   "cell_type": "code",
   "execution_count": 13,
   "metadata": {},
   "outputs": [
    {
     "data": {
      "text/plain": [
       "(5004, 2048, 1933, 1015)"
      ]
     },
     "execution_count": 13,
     "metadata": {},
     "output_type": "execute_result"
    }
   ],
   "source": [
    "def iterations(n):\n",
    "    ''''''\n",
    "    l = list()\n",
    "    for i in range(0,n):\n",
    "        l.append(number_of_descendants(p))\n",
    "    return (l.count(0), l.count(1), l.count(2), l.count(3))\n",
    "iterations(10000)"
   ]
  },
  {
   "cell_type": "markdown",
   "metadata": {},
   "source": [
    "Modélisons maintenant cette population et son évolution au fil des générations.  \n",
    "Soit $Z_n$ la population de la n-ème génération. $Z_{n+1} = \\sum_{i=1}^{Z_n}X$."
   ]
  },
  {
   "cell_type": "code",
   "execution_count": 14,
   "metadata": {},
   "outputs": [
    {
     "data": {
      "text/plain": [
       "3"
      ]
     },
     "execution_count": 14,
     "metadata": {},
     "output_type": "execute_result"
    }
   ],
   "source": [
    "\n",
    "def update_population(Z,p):\n",
    "    '''\n",
    "    int*dict[int:float]->int\n",
    "    Étant donnés un nombre d'individus 'C' et une distibution de probabilité de descendants 'p',\n",
    "    la fonction retourne le nombre d'individus à la prochaine génération.\n",
    "    '''\n",
    "    Z_new = 0\n",
    "    for k in range(Z):\n",
    "        #sum up all the descendants over all the population Z\n",
    "        Z_new += number_of_descendants(p)\n",
    "    return Z_new\n",
    "\n",
    "update_population(8,p = {0 : 0.5,\n",
    "     1 : 0.2,\n",
    "     2 : 0.2,\n",
    "     3 : 0.1})"
   ]
  },
  {
   "cell_type": "markdown",
   "metadata": {},
   "source": [
    "**Question 1.2 :** Compléter la fonction \"population_n_generations\" ci-dessous qui, étant donné un nombre d'invidus de départ $Z_0$, une distribution de probabilité de descendants $p$ et un nombre de générations $n$, retourne une liste $L$ telle que $L[i]$ soit le nombre d'individus à la génération $i$ pour $i$ de $0$ à $n-1$."
   ]
  },
  {
   "cell_type": "code",
   "execution_count": 15,
   "metadata": {},
   "outputs": [
    {
     "name": "stdout",
     "output_type": "stream",
     "text": [
      "[918, 864, 742, 668, 623, 588, 572, 503, 480, 422, 358, 326, 313, 298, 269, 244, 210, 193, 158, 144, 128, 93, 82, 77]\n"
     ]
    }
   ],
   "source": [
    "\n",
    "def population_n_generations(Z0,p,n):\n",
    "    \"\"\"\n",
    "     int*dict[int:float]*int->list[int]\n",
    "     ...\n",
    "    \"\"\"\n",
    "    \n",
    "    Z= Z0\n",
    "    L=[]\n",
    "    for i in range(0,n-1):\n",
    "        L.append(update_population(Z,p))\n",
    "        Z = L[i] \n",
    "    return L\n",
    "\n",
    "#test pour 10 générations, population initiale 20 individus\n",
    "Z0 = 1000\n",
    "n = 25\n",
    "print(population_n_generations(Z0,p,n))"
   ]
  },
  {
   "cell_type": "markdown",
   "metadata": {},
   "source": [
    "À présent, visualisons l'évolution de cette population. Vous pouvez changer $n$, $Z_0$ et $p$."
   ]
  },
  {
   "cell_type": "code",
   "execution_count": 16,
   "metadata": {},
   "outputs": [
    {
     "data": {
      "image/png": "[encoded data removed]",
      "text/plain": [
       "<Figure size 432x288 with 1 Axes>"
      ]
     },
     "metadata": {},
     "output_type": "display_data"
    }
   ],
   "source": [
    "n = 300\n",
    "Z0 = 40\n",
    "p = {0 : 0.6,\n",
    "     1 : 0.2,\n",
    "     2 : 0.1,\n",
    "     3 : 0.1}\n",
    "np.testing.assert_almost_equal(sum(p.values()),1)\n",
    "\n",
    "def plot_population(L):\n",
    "    '''\n",
    "    ??-> None\n",
    "    Visualise the evolution of the population in 'L'\n",
    "    '''\n",
    "    plt.figure()\n",
    "    plt.plot(L)\n",
    "    plt.ylabel(\"Taille Population\")\n",
    "    plt.xlabel(\"Génération\")\n",
    "    plt.show()\n",
    "    return\n",
    "\n",
    "    \n",
    "L=population_n_generations(100,p,20)\n",
    "plot_population(L)"
   ]
  },
  {
   "cell_type": "markdown",
   "metadata": {},
   "source": [
    "**Question 1.3** : Pour la capacité de reproduction $p$ donnée en exemple, observez-vous toujours une extinction de la population ?  Si c'est le cas, déterminez combien de générations sont nécessaires *en moyenne* avant que la population ne s'éteigne ?"
   ]
  },
  {
   "cell_type": "code",
   "execution_count": null,
   "metadata": {},
   "outputs": [],
   "source": []
  },
  {
   "cell_type": "code",
   "execution_count": 17,
   "metadata": {},
   "outputs": [
    {
     "ename": "ValueError",
     "evalue": "5 is not in list",
     "output_type": "error",
     "traceback": [
      "\u001b[0;31m---------------------------------------------------------------------------\u001b[0m",
      "\u001b[0;31mValueError\u001b[0m                                Traceback (most recent call last)",
      "\u001b[0;32m<ipython-input-17-f577ed07ef34>\u001b[0m in \u001b[0;36m<module>\u001b[0;34m()\u001b[0m\n\u001b[1;32m      1\u001b[0m \u001b[0ma\u001b[0m\u001b[0;34m=\u001b[0m \u001b[0;34m[\u001b[0m\u001b[0;36m1\u001b[0m\u001b[0;34m,\u001b[0m\u001b[0;36m2\u001b[0m\u001b[0;34m,\u001b[0m\u001b[0;36m3\u001b[0m\u001b[0;34m]\u001b[0m\u001b[0;34m\u001b[0m\u001b[0m\n\u001b[0;32m----> 2\u001b[0;31m \u001b[0ma\u001b[0m\u001b[0;34m.\u001b[0m\u001b[0mindex\u001b[0m\u001b[0;34m(\u001b[0m\u001b[0;36m5\u001b[0m\u001b[0;34m)\u001b[0m\u001b[0;34m\u001b[0m\u001b[0m\n\u001b[0m",
      "\u001b[0;31mValueError\u001b[0m: 5 is not in list"
     ]
    }
   ],
   "source": [
    "a= [1,2,3]\n",
    "a.index(5)"
   ]
  },
  {
   "cell_type": "code",
   "execution_count": 18,
   "metadata": {},
   "outputs": [
    {
     "data": {
      "text/plain": [
       "7.58"
      ]
     },
     "execution_count": 18,
     "metadata": {},
     "output_type": "execute_result"
    }
   ],
   "source": [
    "def moy_pop(Z,p,k,n):\n",
    "    \"\"\"fonction retournant la moyenne des générations à partir de laquelle il y a une extinction\"\"\"\n",
    "    first_gen_ext = []\n",
    "    for i in range(n):\n",
    "        pop = population_n_generations(i,p,k)\n",
    "        r=0\n",
    "        for j in pop:\n",
    "            r = r + 1\n",
    "            if j == 0:\n",
    "                first_gen_ext.append(r)\n",
    "                break\n",
    "    return np.mean(first_gen_ext)\n",
    "moy_pop(1000, p, 50, 50)"
   ]
  },
  {
   "cell_type": "markdown",
   "metadata": {},
   "source": [
    "On appelle espérance d'une variable discrète $X$ : $\\mathbb{E}[X] = \\sum_k p_kk$"
   ]
  },
  {
   "cell_type": "markdown",
   "metadata": {},
   "source": [
    "**Question 1.4**: Compléter la fonction \"esperance\" ci-dessous permettant de calculer l'espérance d'une variable discrète $X$."
   ]
  },
  {
   "cell_type": "code",
   "execution_count": 19,
   "metadata": {},
   "outputs": [
    {
     "data": {
      "text/plain": [
       "0.6000000000000001"
      ]
     },
     "execution_count": 19,
     "metadata": {},
     "output_type": "execute_result"
    }
   ],
   "source": [
    "p1 = {0 : 0.7,\n",
    "     1 : 0.1,\n",
    "     2 : 0.1,\n",
    "     3 : 0.1}\n",
    "def esperance(p1):\n",
    "    \"\"\"\n",
    "    dict[int:float]->float\n",
    "    ...\n",
    "    \"\"\"\n",
    "    e=0\n",
    "    for i in p1:\n",
    "        e = i*p1[i] + e\n",
    "    return e\n",
    "esperance(p1)"
   ]
  },
  {
   "cell_type": "markdown",
   "metadata": {},
   "source": [
    "**Question 1.5**: Prenez à présent une capacité de reproduction dont l'espérance est 1.5 (testez que c'est bien le cas à l'aide de votre fonction précédente), et reproduisez l'expérience de la question 1.3. "
   ]
  },
  {
   "cell_type": "code",
   "execution_count": 20,
   "metadata": {},
   "outputs": [
    {
     "data": {
      "text/plain": [
       "10.986"
      ]
     },
     "execution_count": 20,
     "metadata": {},
     "output_type": "execute_result"
    }
   ],
   "source": [
    "moy_pop(1000,p1,25, 1000)"
   ]
  },
  {
   "cell_type": "markdown",
   "metadata": {},
   "source": [
    "**Question 1.6** : Jouer sur le paramètre $e = \\mathbb{E}[X]$ et déterminer une valeure qui semble jouer un rôle critique dans le fait que la population va s'éteindre ou pas."
   ]
  },
  {
   "cell_type": "markdown",
   "metadata": {},
   "source": [
    "On constate que l'esperance joue un rôle critique dans le fait que la pop va s'éteindre ou non. On constate que plus l'esperance est faible, plus la population s'éteind lentement"
   ]
  },
  {
   "cell_type": "markdown",
   "metadata": {},
   "source": [
    "**Question 1.7** : Que se passe-t-il lorsque $Z_0$ et $n$ sont grands ?"
   ]
  },
  {
   "cell_type": "markdown",
   "metadata": {},
   "source": [
    "la gén d'extinction de la pop augmente lorsque 20 et n sont grands"
   ]
  },
  {
   "cell_type": "markdown",
   "metadata": {},
   "source": [
    "# 2. Island Model"
   ]
  },
  {
   "cell_type": "markdown",
   "metadata": {},
   "source": [
    "Dans cette seconde partie, le but est d'analyser la répartition et la dissémination des allèles au sein d'une population, répartie dans différentes zones géographiques, tout en prenant en compte les migrations.  \n",
    "\n",
    "**Rappel :** Un allèle est une version variable d'un même gène. En général, il existe deux allèles pour chaque gène. Par exemple : si nous possèdons l'allèle brun nous avons les cheveux bruns, si nous ne l'avons pas nous avons les cheveux blonds. (extrême simplification, ne pas répéter à un biologiste).\n",
    "\n",
    "Imaginons trois iles distinctes $A$, $B$ et $C$, sur chaque île réside une population distincte. Dans chaque population nous constatons une proportion différente de personne possédant un certain allèle. La distribution de cet allèle est notée par : $p_i$ pour $i\\in \\{A,B,C\\}$.\n"
   ]
  },
  {
   "cell_type": "markdown",
   "metadata": {},
   "source": [
    "![Island Model](Island_Model.png \"Island_Model\")"
   ]
  },
  {
   "cell_type": "markdown",
   "metadata": {},
   "source": [
    "Par exemple : $p_A$ représente le pourcentage de la population de l'ile $A$ ayant les cheveux bruns.  \n",
    "\n",
    "**Hypothèse 1:** La population globale $Z$ est considérée comme fixe et équirépartie entre les trois îles, chaque île comporte donc $Z/3$ individus. \n",
    "La population étant considérée comme stable, chaque individu laisse place à un seul individu à la génération suivante. Dans un premier temps nous ignorons donc le renouvelement de la population.  \n",
    "\n",
    "Nous observons une migration d'une **fraction** $m$ d'une île à une autre au fil des générations, celle-ci est cependant équilibrée, à double sens, le nombre d'invidus par île ne varie donc pas. Par exmple, pour $m=0.1$, à chaque génération $10\\%$ de la population va migrer de chaque île vers les autres. Cette fraction ne peut donc pas excéder $0.5$ (dans ce cas la totalité de la population migre de chaque île). \n",
    "\n",
    "Dans cette partie, nous chercherons à répondre à la question suivante : Comment les migrations impactent la distribution d'un allèle au sein des 3 îles ?\n"
   ]
  },
  {
   "cell_type": "markdown",
   "metadata": {},
   "source": [
    "Modélisons l'évolution de la proportion de la population possédant notre allèle (les cheveux bruns) au sein de chaque île. Notons par $p_{A,n}$ la distribution de notre allèle dans l'ile $A$ à la génération $n$.  \n",
    "\n",
    "On a $p_{A,n+1} = \\frac{p_{A,n}\\frac{Z}{3}(1 - 2m) + p_{B,n}\\frac{Z}{3}m + p_{C,n}\\frac{Z}{3}m}{\\frac{Z}{3}}$  \n",
    "\n",
    "et donc $p_{A,n+1} = p_{A,n}(1 - 2m) + p_{B,n}m + p_{C,n}m$."
   ]
  },
  {
   "cell_type": "markdown",
   "metadata": {},
   "source": [
    "**Question 2.1 :** Expliquer cette formule. Quant est-il pour $p_{B,n+1}$ et $p_{C,n+1}$ ?"
   ]
  },
  {
   "cell_type": "markdown",
   "metadata": {},
   "source": [
    "Expliquons $p_{A,n+1} = p_{A,n}(1 - 2m) + p_{B,n}m + p_{C,n}m$\n",
    "\n",
    "\n",
    "p_{A,n}(1 - 2m) correspond a la population intiale de A puis de ses pertes et p_{B,n}m + p_{C,n}m$ correspond aux gains de populations de l'île\n",
    "\n",
    "\n",
    "$p_{B,n+1} = p_{B,n}(1 - 2m) + p_{A,n}m + p_{C,n}m$.\n",
    "\n",
    "$p_{C,n+1} = p_{C,n}(1 - 2m) + p_{A,n}m + p_{B,n}m$."
   ]
  },
  {
   "cell_type": "code",
   "execution_count": 21,
   "metadata": {},
   "outputs": [],
   "source": [
    "# Nous utiliserons les paramètres suivants.\n",
    "\n",
    "m = 0.01 # coefficient de migration\n",
    "\n",
    "p = {'A' : 0.5,\n",
    "    'B' : 0.2,\n",
    "    'C' : 0.8} # Initial probability to have brown hair"
   ]
  },
  {
   "cell_type": "markdown",
   "metadata": {},
   "source": [
    "**Question 2.2 :** Corriger la fonction *update_genetics* ci-dessous qui prend en entrée un dictionaire $p$ (représentant la proportion d'individus ayant les cheveux bruns dans chacune des trois îles à un instant donné), une fraction de migration $m$ et retourne la proportion d'individus ayant les cheveux bruns dans chacune des trois îles à l'instant suivant sous la forme d'un dictionaire."
   ]
  },
  {
   "cell_type": "code",
   "execution_count": 22,
   "metadata": {},
   "outputs": [],
   "source": [
    "def update_genetics(p,m):\n",
    "    '''\n",
    "    dict[str:float]*float->dict[str:float]\n",
    "    Update the population's genetics \n",
    "    '''\n",
    "    p_new={}\n",
    "    p_new['A'] = p['A']*(1-2*m)+p['B']*m+p['C']*m\n",
    "    p_new['B'] = p['B']*(1-2*m)+p['A']*m+p['C']*m\n",
    "    p_new['C'] = p['C']*(1-2*m)+p['B']*m+p['A']*m\n",
    "    return p_new"
   ]
  },
  {
   "cell_type": "markdown",
   "metadata": {},
   "source": [
    "**Question 2.3 :** Compléter la signature et la description de la fonction *genetics_n_migrations* suivante."
   ]
  },
  {
   "cell_type": "code",
   "execution_count": 23,
   "metadata": {},
   "outputs": [],
   "source": [
    "def genetics_n_migrations(p,m,n):\n",
    "    '''\n",
    "    dict[str:float]*float*int->list[float]\n",
    "    retourne la liste de la population des îles A,B,C\n",
    "    '''\n",
    "    keys=[\"A\",\"B\",\"C\"] \n",
    "    M = []\n",
    "    M.append([p[k] for k in keys])\n",
    "    for i in range(1,n):\n",
    "        p = update_genetics(p,m)\n",
    "        M.append([p[k] for k in keys])\n",
    "    return M"
   ]
  },
  {
   "cell_type": "markdown",
   "metadata": {},
   "source": [
    "A présent visualisons la fréquence de l'allèle au cours du temps."
   ]
  },
  {
   "cell_type": "code",
   "execution_count": 24,
   "metadata": {
    "scrolled": true
   },
   "outputs": [
    {
     "data": {
      "image/png": "[encoded data removed]",
      "text/plain": [
       "<Figure size 432x288 with 1 Axes>"
      ]
     },
     "metadata": {},
     "output_type": "display_data"
    }
   ],
   "source": [
    "p = {'A' : 0.5,\n",
    "    'B' : 0.4,\n",
    "    'C' : 0.8}\n",
    "\n",
    "m = 0.01 # Ratio of the population that migrate every generation\n",
    "\n",
    "n = 300\n",
    "\n",
    "M = genetics_n_migrations(p,m,n)\n",
    "\n",
    "def plot_genetics(M,p):\n",
    "    plt.figure()\n",
    "    plt.plot(M)\n",
    "    plt.legend([\"Island \"+i for i in p])\n",
    "    plt.xlabel(\"Génération\")\n",
    "    plt.ylabel(\"Fréquence allèle dans population\")\n",
    "    plt.show()\n",
    "    return\n",
    "plot_genetics(M,p)"
   ]
  },
  {
   "cell_type": "markdown",
   "metadata": {},
   "source": [
    "**Questions 2.4:** Modifier $p_A,p_B,p_C$ ainsi que le taux de migration $m$ et décrire les différents phénomènes observés."
   ]
  },
  {
   "cell_type": "code",
   "execution_count": 25,
   "metadata": {},
   "outputs": [
    {
     "data": {
      "image/png": "[encoded data removed]",
      "text/plain": [
       "<Figure size 432x288 with 1 Axes>"
      ]
     },
     "metadata": {},
     "output_type": "display_data"
    }
   ],
   "source": [
    "p = {'A' : 0.3,\n",
    "    'B' : 0.1,\n",
    "    'C' : 0.2}\n",
    "m = 0.02\n",
    "M = genetics_n_migrations(p,m,n)\n",
    "plot_genetics(M,p)"
   ]
  },
  {
   "cell_type": "markdown",
   "metadata": {},
   "source": [
    "On peut complexifier la modélisation en faisant varier le nombre d'îles ou bien les taux de migrations entre îles : $m$ $\\rightarrow$ $m_{A,B}, m_{B,C}, m_{C,A}$."
   ]
  },
  {
   "cell_type": "markdown",
   "metadata": {},
   "source": [
    "### Variante  1 : Nombre d'îles variable :"
   ]
  },
  {
   "cell_type": "markdown",
   "metadata": {},
   "source": [
    "**Question 2.5 (facultatif) :** Adapter les fonctions précédentes pour un nombre d'îles arbitraire. "
   ]
  },
  {
   "cell_type": "markdown",
   "metadata": {},
   "source": [
    "### Variante 2 : Taux de migrations différents entre îles  :"
   ]
  },
  {
   "cell_type": "markdown",
   "metadata": {},
   "source": [
    "Considérons tout d'abord : $m_{A,B} = m_{B,A}$, $m_{A,C} = m_{C,A}$ et $m_{C,B} = m_{B,C}$."
   ]
  },
  {
   "cell_type": "markdown",
   "metadata": {},
   "source": [
    "**Question 2.6 :** Retrouver la formule suivante et adapter les fonctions précédentes. $p_{A,n+1} = p_{A,n}(1-m_{A,B}-m_{C,A})+p_{B,n}m_{B,A}+p_{C,n}m_{C,A}$"
   ]
  },
  {
   "cell_type": "markdown",
   "metadata": {},
   "source": [
    "Nous avons cette formule :  $p_{A,n+1} = p_{A,n}(1 - 2m) + p_{B,n}m + p_{C,n}m$.\n",
    "En appliquant les égalités juste au dessus, on remplace les taux de migrations correspondant à chacune des valeurs on a alors :\n",
    "\n",
    "$p_{A,n+1} = p_{A,n}(1-m_{A,B}-m_{A,C})+p_{B,n}m_{B,A}+p_{C,n}m_{C,A}$\n",
    "<=>\n",
    "$p_{A,n+1} = p_{A,n}(1-m_{A,B}-m_{C,A})+p_{B,n}m_{B,A}+p_{C,n}m_{C,A}$"
   ]
  },
  {
   "cell_type": "code",
   "execution_count": 26,
   "metadata": {},
   "outputs": [],
   "source": [
    "#Nous utiliserons les paramètres suivants.\n",
    "\n",
    "p = {'A' : 0.1,\n",
    "    'B' : 0.4,\n",
    "    'C' : 0.8} # Initial probability to have red hair \n",
    "\n",
    "m = {('A','B') : 0.2, # Migration ratio from island 'A' to island 'B'\n",
    "     ('B','A') : 0.2,\n",
    "     ('A','C') : 0.01,\n",
    "     ('C','A') : 0.05,\n",
    "     ('B','C') : 0.01,\n",
    "     ('C','B') : 0.01}"
   ]
  },
  {
   "cell_type": "code",
   "execution_count": 27,
   "metadata": {},
   "outputs": [
    {
     "data": {
      "text/plain": [
       "[[0.1, 0.4, 0.8],\n",
       " [0.16700000000000004, 0.3440000000000001, 0.789],\n",
       " [0.20862000000000008, 0.31305000000000005, 0.77833],\n",
       " [0.23520310000000005, 0.29681680000000005, 0.7679801],\n",
       " [0.25285361000000006, 0.28920569300000004, 0.7579406970000001],\n",
       " [0.26517489747000006, 0.28662262644000003, 0.7482024760900001],\n",
       " [0.27429471905020003, 0.2869488791425, 0.7387564018073002],\n",
       " [0.281470167896231, 0.28893612235068805, 0.7295937097530812],\n",
       " [0.2874445942056909, 0.2918495073338206, 0.7207058984604889],\n",
       " [0.2926581898738648, 0.29525708861946137, 0.7120847215066742],\n",
       " [0.29737223493931225, 0.2989055851992142, 0.703722179861474],\n",
       " [0.30174240444051426, 0.3026470810938564, 0.6956105144656297],\n",
       " [0.3058620208714338, 0.3063957800969057, 0.6877421990316609],\n",
       " [0.3097875744981305, 0.3101024924411589, 0.6801099330607111],\n",
       " [0.31355378167236203, 0.3137395832587488, 0.6727066350688897],\n",
       " [0.31718247052360465, 0.3172920934595728, 0.665525436016823],\n",
       " [0.32068782476573043, 0.3207525022979517, 0.6585596729363183],\n",
       " [0.3240794787538806, 0.32411763849789116, 0.6518028827482287],\n",
       " [0.3273643447426262, 0.3273868589915925, 0.6452487962657818],\n",
       " [0.33054769210765106, 0.33056097551454106, 0.6388913323778084],\n",
       " [0.3336337851917307, 0.33364162240179573, 0.632724592406474],\n",
       " [0.3366262607058912, 0.33663088465982954, 0.6267428546342798],\n",
       " [0.33952835143596277, 0.3395310795687864, 0.6209405689952514],\n",
       " [0.34234301923812044, 0.3423446288364864, 0.6153123519253938],\n",
       " [0.3450730344846664, 0.34507398414770235, 0.609852981367632],\n",
       " [0.34772102388610326, 0.3477215841872945, 0.6045573919266031],\n",
       " [0.35028949962674655, 0.35028983020444937, 0.5994206701688051],\n",
       " [0.3527808774477077, 0.3527810724885524, 0.594438050063741],\n",
       " [0.355197488182037, 0.35519760325613536, 0.5896049085618288],\n",
       " [0.35754158540065467, 0.35754165329437265, 0.5849167613049738],\n",
       " [0.3598153507384415, 0.3598153907957351, 0.5803692584658245],\n",
       " [0.36202089782717406, 0.3620209214609773, 0.5759581807118499],\n",
       " [0.3641602753827815, 0.3641602893267254, 0.5716794352904945],\n",
       " [0.3662354697706474, 0.36623547799757433, 0.5675290522317796],\n",
       " [0.3682484072406441, 0.368248412094531, 0.5635031806648263],\n",
       " [0.3702009559456634, 0.37020095880945664, 0.5595980852448815],\n",
       " [0.3720949278114143, 0.3720949295010523, 0.555810142687535],\n",
       " [0.3739320802981031, 0.37393208129498956, 0.552135838406909],\n",
       " [0.37571411807856847, 0.37571411866673143, 0.5485717632547018],\n",
       " [0.37744269464796243, 0.3774426949949785, 0.5451146103570609],\n",
       " [0.37911941387445663, 0.37911941407919614, 0.5417611720463491],\n",
       " [0.3807458314971235, 0.3807458316179198, 0.5385083368849586],\n",
       " [0.38232345657516115, 0.3823234566464309, 0.5353530867784099],\n",
       " [0.38385375289144763, 0.38385375293349683, 0.5322924941750575],\n",
       " [0.3853381403126936, 0.38533814033750263, 0.5293237193498058],\n",
       " [0.38677799610802654, 0.38677799612266384, 0.5264440077693117],\n",
       " [0.38817465622756686, 0.38817465623620284, 0.5236506875362323],\n",
       " [0.3895294165423807, 0.3895294165474759, 0.5209411669101455],\n",
       " [0.39084353404707745, 0.39084353405008354, 0.5183129319028411],\n",
       " [0.3921182280262363, 0.39211822802800994, 0.5157635439457559]]"
      ]
     },
     "execution_count": 27,
     "metadata": {},
     "output_type": "execute_result"
    }
   ],
   "source": [
    "def update_genetics_bis(p,m):\n",
    "    '''\n",
    "    dict[str:float]*float->dict[str:float]\n",
    "    Update the population's genetics \n",
    "    '''\n",
    "    p_new={}\n",
    "    p_new['A'] = p['A']*(1-m[('A','B')]- m[('A','C')])+p['B']*m[('A','B')]+p['C']*m[('A','C')]\n",
    "    p_new['B'] = p['B']*(1-m[('A','B')]- m[('B','C')])+p['A']*m[('A','B')]+p['C']*m[('B','C')]\n",
    "    p_new['C'] = p['C']*(1-m[('C','B')]- m[('A','C')])+p['B']*m[('C','B')]+p['A']*m[('A','C')]\n",
    "    return p_new\n",
    "\n",
    "def genetics_variante2(p,m,n):\n",
    "    '''\n",
    "    dict[str:float]*float*int->list[float]\n",
    "    retourne la liste de la population des îles A,B,C\n",
    "    '''\n",
    "    keys=[\"A\",\"B\",\"C\"] \n",
    "    M = []\n",
    "    M.append([p[k] for k in keys])\n",
    "    for i in range(1,n):\n",
    "        p = update_genetics_bis(p,m)\n",
    "        M.append([p[k] for k in keys])\n",
    "    return M\n",
    "genetics_variante2(p,m,50)"
   ]
  },
  {
   "cell_type": "markdown",
   "metadata": {},
   "source": [
    "**Question 2.7**: Que se passe-t-il si le taux de migrations d'un île à une autre n'est plus symétrique : $m_{A,B} \\neq m_{B,A}$ ? Est-ce que notre notre calcul est toujours correct ? (Indice : cf hypothèse 1.)"
   ]
  },
  {
   "cell_type": "markdown",
   "metadata": {},
   "source": [
    "On constate que lorsque le taux de migration n'est plus symétrique, la population ne s'équilibre pas au cours des générations. L'hypothèse 1 n'est plus valide car les populations ne sont plus équirépartie entre les 3 îles. \n",
    "calcul juste mais différent ?"
   ]
  },
  {
   "cell_type": "markdown",
   "metadata": {},
   "source": [
    "# 3. Galton-Watson et Migrations"
   ]
  },
  {
   "cell_type": "markdown",
   "metadata": {},
   "source": [
    "Dans cette partie nous nous intéressons aux nombres d'individus sur chaque île sans tenir compte de leurs patrimoines génétiques. Nous supposons que la population de chaque île suit un modele de Gatson-Watson. Prenons en compte les migrations et adaptons notre modèle en conséquent.\n",
    "\n",
    "Notons $Z_{A,n},Z_{B,n},Z_{C,n}$ les populations des îles $A$, $B$ et $C$ à la génération $n$. \n",
    "\n",
    "La formule suivante peut sembler compliquée, mais s'interprète assez facilement :\n",
    "- $Z_{A,n+1} = \\sum_{i=1}^{Z_{A,n}'}X$ où $Z_{A,n}' = Z_{A,n}(1-m_{A,B}-m_{A,C})+Z_{B,n}m_{B,A}+Z_{C,n}m_{C,A}$.\n",
    "\n",
    "$Z_{A,n}'$ est la population de l'île $A$ à la generation $n$ **après** avoir pris en compte les migrations.\n",
    "\n",
    "**Question 3.1 :** Retrouver les formules pour $Z_{B,n+1}$ ainsi que pour $Z_{C,n+1}$."
   ]
  },
  {
   "cell_type": "markdown",
   "metadata": {},
   "source": [
    "- $Z_{B,n+1} = \\sum_{i=1}^{Z_{B,n}'}X$ où $Z_{B,n}' = Z_{B,n}(1-m_{B,A}-m_{B,C})+Z_{A,n}m_{A,B}+Z_{C,n}m_{C,B}$.\n",
    "- $Z_{C,n+1} = \\sum_{i=1}^{Z_{C,n}'}X$ où $Z_{C,n}' = Z_{C,n}(1-m_{C,A}-m_{B,A})+Z_{A,n}m_{A,C}+Z_{B,n}m_{B,C}$."
   ]
  },
  {
   "cell_type": "markdown",
   "metadata": {},
   "source": [
    "Modélisons l'évolution de cet archipel au fil des générations."
   ]
  },
  {
   "cell_type": "code",
   "execution_count": 28,
   "metadata": {},
   "outputs": [],
   "source": [
    "#Nous utiliserons les paramètres suivants.\n",
    "\n",
    "p = {0 : 0.4,\n",
    "     1 : 0.3,\n",
    "     2 : 0.2,\n",
    "     3 : 0.1} # Number of descendants\n",
    "np.testing.assert_almost_equal(sum(p.values()),1)\n",
    "\n",
    "P = {'A' : p,\n",
    "     'B' : p,\n",
    "     'C' : p} # Galton Watson parameter on each island\n",
    "\n",
    "Z0 = {'A' : 40,\n",
    "     'B' : 1000,\n",
    "     'C' : 400} #Initial Population\n",
    "\n",
    "M = {('A','B') : 0.02, # Migration ratio from island 'A' to island 'B'\n",
    "     ('B','A') : 0.02,\n",
    "     ('A','C') : 0.05,\n",
    "     ('C','A') : 0.05,\n",
    "     ('B','C') : 0.01,\n",
    "     ('C','B') : 0.01}\n",
    "\n",
    "n = 10 #Number of generations\n"
   ]
  },
  {
   "cell_type": "markdown",
   "metadata": {},
   "source": [
    "**Question 3.2 :** Compléter la fonction ci-dessous."
   ]
  },
  {
   "cell_type": "code",
   "execution_count": 29,
   "metadata": {},
   "outputs": [
    {
     "data": {
      "text/plain": [
       "{'A': 692, 'B': 9671, 'C': 166}"
      ]
     },
     "execution_count": 29,
     "metadata": {},
     "output_type": "execute_result"
    }
   ],
   "source": [
    "def update_populations_with_migrations(Z0,P,M):\n",
    "    '''\n",
    "    ???->???\n",
    "    ???\n",
    "    '''\n",
    "    Z_new = {}\n",
    "    Z_new['A'] = update_population(int(Z['A']*(1-M[('A','B')]- M[('A','C')])+Z['B']*M[('A','B')]+Z['C']*M[('A','C')]),P['A'])\n",
    "    Z_new['B'] = update_population(int(Z['B']*(1-M[('A','B')]- M[('B','C')])+Z['A']*M[('A','B')]+Z['C']*M[('B','C')]),P['B'])\n",
    "    Z_new['C'] = update_population(int(Z['C']*(1-M[('C','B')]- M[('A','C')])+Z['B']*M[('C','B')]+Z['A']*M[('A','C')]),P['C'])\n",
    "    return Z_new\n",
    "\n",
    "update_populations_with_migrations(Z0,P,M)\n"
   ]
  },
  {
   "cell_type": "code",
   "execution_count": 30,
   "metadata": {},
   "outputs": [
    {
     "data": {
      "text/plain": [
       "\"Question 3.3 :** Visualiser le nombre d'individu sur chaque île.\""
      ]
     },
     "execution_count": 30,
     "metadata": {},
     "output_type": "execute_result"
    }
   ],
   "source": [
    "\"Question 3.3 :** Visualiser le nombre d'individu sur chaque île.\""
   ]
  },
  {
   "cell_type": "code",
   "execution_count": 31,
   "metadata": {},
   "outputs": [
    {
     "data": {
      "text/plain": [
       "{'A': 681, 'B': 9573, 'C': 173}"
      ]
     },
     "execution_count": 31,
     "metadata": {},
     "output_type": "execute_result"
    }
   ],
   "source": [
    "def nbr_individus(Z0,P,M,n):\n",
    "    '''\n",
    "    dict[str:float]*float*int->list[float]\n",
    "    retourne la liste de la population des îles A,B,C\n",
    "    '''\n",
    "    Z_new = Z0\n",
    "    for i in range(1,n):\n",
    "        Z_new = update_populations_with_migrations(Z_new,P,M)\n",
    "    return Z_new\n",
    "    \n",
    "nbr_individus(Z0,P,M,n)"
   ]
  },
  {
   "cell_type": "markdown",
   "metadata": {},
   "source": [
    "**Questions 3.4 :**\n",
    "- Faire varier les populations initiales $Z_0$.\n",
    "- Modifier les paramètres de migrations pour éteindre la population d'une seule île.\n",
    "- Faire survivre la population d'une seule île."
   ]
  },
  {
   "cell_type": "markdown",
   "metadata": {},
   "source": [
    "### Visualisation Dynamique (Facultatif)"
   ]
  },
  {
   "cell_type": "markdown",
   "metadata": {},
   "source": [
    "Avec cette visualisation il est très simple d'observer les phénomènes de cas (sur/sous)-critiques, en faisant varier ne serait-ce que très légérement l'espérance."
   ]
  },
  {
   "cell_type": "code",
   "execution_count": 32,
   "metadata": {},
   "outputs": [],
   "source": [
    "import pandas as pd\n",
    "def animated_populations(Z,P,M,n):\n",
    "    n_island = len(Z)\n",
    "    pop_dict = {0:Z}\n",
    "    for i in range(n):\n",
    "        Z = update_populations_with_migrations(Z,P,M)\n",
    "        pop_dict[i]=Z.copy()\n",
    "    pop_df = pd.DataFrame.from_dict(pop_dict,orient='index')\n",
    "    fig = plt.figure()\n",
    "    cmap = plt.get_cmap('tab10')\n",
    "    barplot = plt.bar(range(n_island),pop_df.max(),color=[cmap(i) for i in range(n_island)])\n",
    "    def animate(i):\n",
    "        populations = pop_df.iloc[i,:]\n",
    "        for j,b in enumerate(barplot):\n",
    "            b.set_height(populations[j])\n",
    "    plt.tick_params(top=False,right=False)\n",
    "    plt.xticks(range(n_island),[\"Island \"+str(i) for i in Z.keys()])\n",
    "    plt.ylabel(\"Population\")\n",
    "    for spine in plt.gca().spines.values():\n",
    "        spine.set_visible(False)\n",
    "    anim = animation.FuncAnimation(fig,animate,blit=False,\n",
    "                                  frames = n,interval=300,repeat=False)\n",
    "    #anim.save('mymovie.mp4',writer=animation.FFMpegWriter(fps=10))\n",
    "    return anim"
   ]
  },
  {
   "cell_type": "code",
   "execution_count": 33,
   "metadata": {},
   "outputs": [
    {
     "data": {
      "text/plain": [
       "<matplotlib.animation.FuncAnimation at 0x7f5344b572b0>"
      ]
     },
     "execution_count": 33,
     "metadata": {},
     "output_type": "execute_result"
    },
    {
     "data": {
      "image/png": "[encoded data removed]",
      "text/plain": [
       "<Figure size 432x288 with 1 Axes>"
      ]
     },
     "metadata": {},
     "output_type": "display_data"
    }
   ],
   "source": [
    "p = {0 : 0.4,\n",
    "     1 : 0.3,\n",
    "     2 : 0.2,\n",
    "     3 : 0.1}\n",
    "np.testing.assert_almost_equal(sum(p.values()),1)\n",
    "P = {'A' : p,\n",
    "     'B' : p,\n",
    "     'C' : p}\n",
    "Z0 = {'A' : 400,\n",
    "     'B' : 2000,\n",
    "     'C' : 400}\n",
    "M = {('A','B') : 0.05, # Migration ratio from island 'A' to island 'B'\n",
    "     ('B','A') : 0.05,\n",
    "     ('A','C') : 0.05,\n",
    "     ('C','A') : 0.05,\n",
    "     ('B','C') : 0.01,\n",
    "     ('C','B') : 0.01}\n",
    "n = 400\n",
    "animated_populations(Z0,P,M,n)"
   ]
  },
  {
   "cell_type": "markdown",
   "metadata": {},
   "source": [
    "# 4. Galton-Island"
   ]
  },
  {
   "cell_type": "markdown",
   "metadata": {},
   "source": [
    "Retournons à notre Island Model, maintenant que nous avons pris en compte l'évolution de la population sur chaque île, celle-ci n'étant plus constante, nous allons pouvoir réaliser un modèle un peu plus réaliste, nous oublions l'**hypothèse 1**."
   ]
  },
  {
   "cell_type": "markdown",
   "metadata": {},
   "source": [
    "**Question 4.1 :** Retrouver la formule générale suivante :\n",
    "\n",
    "$p_{A,n+1} = \\frac{\\displaystyle p_{A,n}Z_{A,n}(1-m_{A,B}-m_{A,C})+p_{B,n}Z_{B,n}m_{B,A}+p_{C,n}Z_{C,n}m_{C,n}}{\\displaystyle Z_{A,n}(1-m_{A,B}-m_{A,C})+Z_{B,n}m_{B,A}+Z_{C,n}m_{C,n}}$\n",
    "\n",
    "\n",
    "Adapter les fonctions précédentes dans les box ci dessous."
   ]
  },
  {
   "cell_type": "markdown",
   "metadata": {},
   "source": [
    "Expliquons:\n",
    "\n",
    "$p_{A,n+1} = \\frac{\\displaystyle p_{A,n}Z_{A,n}(1-m_{A,B}-m_{A,C})+p_{B,n}Z_{B,n}m_{B,A}+p_{C,n}Z_{C,n}m_{C,n}}{\\displaystyle Z_{A,n}(1-m_{A,B}-m_{A,C})+Z_{B,n}m_{B,A}+Z_{C,n}m_{C,n}}$\n",
    "\n",
    "Nous cherchons la proportion de personne avec un certain trait de caractère sur l'île A par exemple. Au numérateur nous avons toutes les personnes de l'île A ayant ce trait de caractère, plus les personnes venant de l'île B l'ayant égalemment, et de même pour les venants de l'île C. Au dénominateur nous avons le nombre totale de personne sur l'île étudiée (dans la formule l'île A). C'est ainsi que nous obtenons la proportion de personne qui possède un certain trait de caractère.\n"
   ]
  },
  {
   "cell_type": "code",
   "execution_count": 70,
   "metadata": {},
   "outputs": [
    {
     "data": {
      "text/plain": [
       "{0: 0.3, 1: 0.5, 2: 0.1, 3: 0.1}"
      ]
     },
     "execution_count": 70,
     "metadata": {},
     "output_type": "execute_result"
    }
   ],
   "source": [
    "p\n"
   ]
  },
  {
   "cell_type": "code",
   "execution_count": 78,
   "metadata": {},
   "outputs": [
    {
     "data": {
      "text/plain": [
       "{'A': 41, 'B': 942, 'C': 42}"
      ]
     },
     "execution_count": 78,
     "metadata": {},
     "output_type": "execute_result"
    }
   ],
   "source": [
    "def galton_island(Z,p_galton,p_genetics,m,n):\n",
    "    '''\n",
    "    Combinaison des deux modèles \n",
    "    '''\n",
    "    Z_new = Z\n",
    "    p_new = p_genetics\n",
    "    for i in range(1,n):\n",
    "        Z_new = update_populations_with_migrations(Z_new,p_galton,m)\n",
    "        p_new = update_genetics_with_migrations(Z_new,p_genetics,m,verbose=False)\n",
    "    d= {}\n",
    "    d['A']= int(Z_new['A']*p_new['A'])\n",
    "    d['B']= int(Z_new['B']*p_new['B'])\n",
    "    d['C']= int(Z_new['C']*p_new['C'])\n",
    "    return d\n",
    "galton_island(Z,p_galton,p_genetics,m,n)"
   ]
  },
  {
   "cell_type": "code",
   "execution_count": 50,
   "metadata": {},
   "outputs": [
    {
     "data": {
      "text/plain": [
       "{'A': 0.0644927536231884, 'B': 0.09984093319194061, 'C': 0.0644927536231884}"
      ]
     },
     "execution_count": 50,
     "metadata": {},
     "output_type": "execute_result"
    }
   ],
   "source": [
    "p_genetics = {'A' : 0.05,\n",
    "              'B' : 0.1,\n",
    "              'C' : 0.05}\n",
    "\n",
    "def update_genetics_with_migrations(Z,p,m,verbose=False):\n",
    "    '''\n",
    "    Update the genetics of the population 'C', with parameter in 'p_galton' and 'p_genetics',\n",
    "    according to migrations 'm' \n",
    "    '''\n",
    "    p_new={}\n",
    "    p_new['A'] = (p['A']*Z['A']*(1-m[('A','B')]- m[('A','C')])+p['B']*Z['B']*m[('A','B')]+p['C']*Z['C']*m[('A','C')])/(Z['A']*(1-m[('A','B')]- m[('A','C')])+Z['B']*m[('A','B')]+Z['C']*m[('A','C')])\n",
    "    p_new['B'] = (p['B']*Z['B']*(1-m[('A','B')]- m[('B','C')])+p['A']*Z['A']*m[('A','B')]+p['C']*Z['C']*m[('B','C')])/(Z['B']*(1-m[('A','B')]- m[('B','C')])+Z['A']*m[('A','B')]+Z['C']*m[('B','C')])\n",
    "    p_new['C'] = (p['C']*Z['C']*(1-m[('C','B')]- m[('A','C')])+p['B']*Z['B']*m[('C','B')]+p['A']*Z['A']*m[('A','C')])/(Z['C']*(1-m[('C','B')]- m[('A','C')])+Z['B']*m[('C','B')]+Z['A']*m[('A','C')])\n",
    "    return p_new\n",
    "   \n",
    "update_genetics_with_migrations(Z,p_genetics,m,verbose=False)"
   ]
  },
  {
   "cell_type": "code",
   "execution_count": 52,
   "metadata": {},
   "outputs": [
    {
     "data": {
      "text/plain": [
       "{'A': 693, 'B': 9386, 'C': 228}"
      ]
     },
     "execution_count": 52,
     "metadata": {},
     "output_type": "execute_result"
    }
   ],
   "source": [
    "Z = {'A' : 500,\n",
    "     'B' : 10000,\n",
    "     'C' : 50} # Initial population\n",
    "p = {0 : 0.3,\n",
    "     1 : 0.5,\n",
    "     2 : 0.1,\n",
    "     3 : 0.1}\n",
    "p_galton = {'A' : p,\n",
    "            'B' : p,\n",
    "            'C' : p}\n",
    "p_genetics = {'A' : 0.05,\n",
    "              'B' : 0.1,\n",
    "              'C' : 0.05} # Initial proportion of the population that can survive the disease. \n",
    "m = {('A','B') : 0.02, # Migration ratio from island 'A' to island 'B'\n",
    "     ('B','A') : 0.02,\n",
    "     ('A','C') : 0.05,\n",
    "     ('C','A') : 0.02,\n",
    "     ('B','C') : 0.04,\n",
    "     ('C','B') : 0.02}\n",
    "n = 500\n",
    "galton_island(Z,p_galton,p_genetics,m,n)"
   ]
  },
  {
   "cell_type": "markdown",
   "metadata": {},
   "source": [
    "**Questions 4.2 :** Observer l'évolution de la proportion de la population possédant l'allèle au sein de chaque île."
   ]
  },
  {
   "cell_type": "markdown",
   "metadata": {},
   "source": [
    "# 5. L'épidémie"
   ]
  },
  {
   "cell_type": "markdown",
   "metadata": {},
   "source": [
    "Une épidémie se propage sur l'archipel, seul les individus possèdant la version du gène étudié (les cheveux bruns) peuvent y survivre. (Un truc très sérieux, genre peste bubonique ou ebola 2.0). Cette épidémie survient lors de la génération arbitraire : *n_epi*.\n"
   ]
  },
  {
   "cell_type": "markdown",
   "metadata": {},
   "source": [
    "**Question 5.1 :** Rajoutez dans la fonction *galton_island* précédente une condition permettant de modéliser ce phénomène. \n",
    "Indice : Rajouter un test correpondant à *n_epi* et ajuster la population en fonction de $p_{A,n}$, $p_{B,n}$ et $p_{C,n}$. "
   ]
  },
  {
   "cell_type": "code",
   "execution_count": 83,
   "metadata": {},
   "outputs": [
    {
     "name": "stdout",
     "output_type": "stream",
     "text": [
      "{'C': 0.09945717525819343, 'B': 0.09945717734472691, 'A': 0.09945717525819343}\n",
      "{'C': 67, 'B': 938, 'A': 67}\n",
      "{'C': 6, 'B': 93, 'A': 6}\n"
     ]
    },
    {
     "data": {
      "text/plain": [
       "{'A': 67, 'B': 938, 'C': 68}"
      ]
     },
     "execution_count": 83,
     "metadata": {},
     "output_type": "execute_result"
    }
   ],
   "source": [
    "def update_genetics_with_migrations(Z,p,m,verbose=False):\n",
    "    '''\n",
    "    Update the genetics of the population 'C', with parameter in 'p_galton' and 'p_genetics',\n",
    "    according to migrations 'm' \n",
    "    '''\n",
    "    p_new={}\n",
    "    p_new['A'] = (p['A']*Z['A']*(1-m[('A','B')]- m[('A','C')])+p['B']*Z['B']*m[('A','B')]+p['C']*Z['C']*m[('A','C')])/(Z['A']*(1-m[('A','B')]- m[('A','C')])+Z['B']*m[('A','B')]+Z['C']*m[('A','C')])\n",
    "    p_new['B'] = (p['B']*Z['B']*(1-m[('A','B')]- m[('B','C')])+p['A']*Z['A']*m[('A','B')]+p['C']*Z['C']*m[('B','C')])/(Z['B']*(1-m[('A','B')]- m[('B','C')])+Z['A']*m[('A','B')]+Z['C']*m[('B','C')])\n",
    "    p_new['C'] = (p['C']*Z['C']*(1-m[('C','B')]- m[('A','C')])+p['B']*Z['B']*m[('C','B')]+p['A']*Z['A']*m[('A','C')])/(Z['C']*(1-m[('C','B')]- m[('A','C')])+Z['B']*m[('C','B')]+Z['A']*m[('A','C')])\n",
    "    return p_new\n",
    "\n",
    "def galton_island_with_disease(Z,p_galton,p_genetics,m,n,n_epi):\n",
    "    '''\n",
    "    Combinaison des deux modèles + maladie à la génération 'n_epi'\n",
    "    '''\n",
    "    p = p_genetics\n",
    "    for i in range(1,n_epi):\n",
    "        p = update_genetics_with_migrations(Z,p,m,verbose=False)\n",
    "        \n",
    "    print(p)\n",
    "    D = galton_island(Z,p_galton,p,m,n_epi)\n",
    "    print(D)\n",
    "    d= {}\n",
    "    d['A']= int(D['A']*p['A'])\n",
    "    d['B']= int(D['B']*p['B'])\n",
    "    d['C']= int(D['C']*p['C'])\n",
    "    print(d)\n",
    "    b = galton_island(d,p_galton,p,m,n-n_epi)\n",
    "    return b\n",
    "galton_island_with_disease(Z,p_galton,p_genetics,m,n,n_epi)"
   ]
  },
  {
   "cell_type": "code",
   "execution_count": 64,
   "metadata": {},
   "outputs": [],
   "source": [
    "Z = {'A' : 500,\n",
    "     'B' : 10000,\n",
    "     'C' : 500} # Initial population\n",
    "p = {0 : 0.3,\n",
    "     1 : 0.5,\n",
    "     2 : 0.1,\n",
    "     3 : 0.1}\n",
    "p_galton = {'A' : p,\n",
    "            'B' : p,\n",
    "            'C' : p}\n",
    "p_genetics = {'A' : 0.05,\n",
    "              'B' : 0.1,\n",
    "              'C' : 0.05} # Initial proportion of the population that can survive the disease. \n",
    "m = {('A','B') : 0.02, # Migration ratio from island 'A' to island 'B'\n",
    "     ('B','A') : 0.02,\n",
    "     ('A','C') : 0.05,\n",
    "     ('C','A') : 0.02,\n",
    "     ('B','C') : 0.04,\n",
    "     ('C','B') : 0.02}\n",
    "n_epi = 50\n",
    "n = 300"
   ]
  },
  {
   "cell_type": "code",
   "execution_count": 39,
   "metadata": {},
   "outputs": [],
   "source": []
  },
  {
   "cell_type": "markdown",
   "metadata": {},
   "source": [
    "**Questions 5.2 :**\n",
    "  - Faire varier les paramètres des 2 modèles afin de faire survivre les populations des trois iles.\n",
    "  - Faire varier les paramètres afin de faire survivre seulement les habitants des îles $A$ et $B$.\n",
    "  - Faire varier les paramètres afin de faire survivre seulement les habitant de l'île $C$."
   ]
  },
  {
   "cell_type": "code",
   "execution_count": null,
   "metadata": {},
   "outputs": [],
   "source": []
  },
  {
   "cell_type": "code",
   "execution_count": null,
   "metadata": {},
   "outputs": [],
   "source": []
  },
  {
   "cell_type": "code",
   "execution_count": null,
   "metadata": {},
   "outputs": [],
   "source": []
  },
  {
   "cell_type": "code",
   "execution_count": null,
   "metadata": {},
   "outputs": [],
   "source": []
  },
  {
   "cell_type": "code",
   "execution_count": null,
   "metadata": {},
   "outputs": [],
   "source": []
  },
  {
   "cell_type": "code",
   "execution_count": null,
   "metadata": {},
   "outputs": [],
   "source": []
  },
  {
   "cell_type": "code",
   "execution_count": null,
   "metadata": {},
   "outputs": [],
   "source": []
  },
  {
   "cell_type": "code",
   "execution_count": null,
   "metadata": {},
   "outputs": [],
   "source": []
  }
 ],
 "metadata": {
  "kernelspec": {
   "display_name": "Python 3",
   "language": "python",
   "name": "python3"
  },
  "language_info": {
   "codemirror_mode": {
    "name": "ipython",
    "version": 3
   },
   "file_extension": ".py",
   "mimetype": "text/x-python",
   "name": "python",
   "nbconvert_exporter": "python",
   "pygments_lexer": "ipython3",
   "version": "3.5.3"
  }
 },
 "nbformat": 4,
 "nbformat_minor": 2
}
